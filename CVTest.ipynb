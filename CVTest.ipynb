{
  "nbformat": 4,
  "nbformat_minor": 0,
  "metadata": {
    "colab": {
      "name": "CVTest.ipynb",
      "provenance": [],
      "collapsed_sections": [],
      "toc_visible": true,
      "machine_shape": "hm"
    },
    "kernelspec": {
      "name": "python3",
      "display_name": "Python 3"
    },
    "accelerator": "GPU"
  },
  "cells": [
    {
      "cell_type": "code",
      "metadata": {
        "colab": {
          "base_uri": "https://localhost:8080/"
        },
        "id": "BqJxKTXOKhrX",
        "outputId": "b692fe40-d179-470c-d077-beea1a97e440"
      },
      "source": [
        "!wget -O data.tgz https://s3.amazonaws.com/fast-ai-imageclas/imagewoof2.tgz"
      ],
      "execution_count": 1,
      "outputs": [
        {
          "output_type": "stream",
          "text": [
            "--2021-04-17 01:46:19--  https://s3.amazonaws.com/fast-ai-imageclas/imagewoof2.tgz\n",
            "Resolving s3.amazonaws.com (s3.amazonaws.com)... 52.217.100.142\n",
            "Connecting to s3.amazonaws.com (s3.amazonaws.com)|52.217.100.142|:443... connected.\n",
            "HTTP request sent, awaiting response... 200 OK\n",
            "Length: 1343715595 (1.3G) [application/x-tar]\n",
            "Saving to: ‘data.tgz’\n",
            "\n",
            "data.tgz            100%[===================>]   1.25G  34.5MB/s    in 38s     \n",
            "\n",
            "2021-04-17 01:46:57 (33.8 MB/s) - ‘data.tgz’ saved [1343715595/1343715595]\n",
            "\n"
          ],
          "name": "stdout"
        }
      ]
    },
    {
      "cell_type": "code",
      "metadata": {
        "id": "6yVcbMkVKztt"
      },
      "source": [
        "!tar xzf data.tgz"
      ],
      "execution_count": 2,
      "outputs": []
    },
    {
      "cell_type": "code",
      "metadata": {
        "id": "XA3XFhrKK_1l"
      },
      "source": [
        "import pandas as pd\n",
        "import numpy as np\n",
        "import cv2\n",
        "import os\n",
        "import matplotlib.pyplot as plt\n",
        "from tqdm.notebook import tqdm\n",
        "\n",
        "from sklearn.metrics import f1_score, roc_auc_score, accuracy_score\n",
        "from sklearn.model_selection import train_test_split\n",
        "\n",
        "import torch\n",
        "import torch.nn as nn\n",
        "import torch.nn.functional as F\n",
        "\n",
        "import torch.optim as optim\n",
        "from torch.optim import lr_scheduler\n",
        "import torchvision\n",
        "from torchvision import datasets, models, transforms\n",
        "import random\n",
        "from skimage import io, transform\n",
        "from torch.utils.data import Dataset, DataLoader\n",
        "from torchvision import datasets, transforms\n",
        "from torch.cuda.amp import autocast, GradScaler\n",
        "\n",
        "SEED = 1337\n",
        "TRAIN_BATCH_SIZE = 32\n",
        "VAL_BATCH_SIZE = 256\n",
        "\n",
        "TRAIN_DIR = 'imagewoof2/train/'\n",
        "VAL_DIR  = 'imagewoof2/val/'\n",
        "\n",
        "N_CLASSES = len(os.listdir(TRAIN_DIR))\n",
        "EPOCHS = 30\n",
        "ETA_MIN = 3e-6\n",
        "LR = 3e-4\n",
        "\n",
        "device = 'cuda' if torch.cuda.is_available() else 'cpu'"
      ],
      "execution_count": 1,
      "outputs": []
    },
    {
      "cell_type": "markdown",
      "metadata": {
        "id": "f3jeUSLbRz-y"
      },
      "source": [
        "# Model Preparation"
      ]
    },
    {
      "cell_type": "code",
      "metadata": {
        "id": "Gx5dZGAws2Pc"
      },
      "source": [
        "data_transforms = {\n",
        "    'train': transforms.Compose([\n",
        "        transforms.RandomHorizontalFlip(p=.5),\n",
        "        transforms.RandomVerticalFlip(p=.5),\n",
        "        transforms.RandomResizedCrop(224),\n",
        "        transforms.ToTensor(),\n",
        "        transforms.Normalize([0.485, 0.456, 0.406], [0.229, 0.224, 0.225])\n",
        "    ]),\n",
        "    'val': transforms.Compose([\n",
        "        transforms.Resize(256),\n",
        "        transforms.CenterCrop(224),\n",
        "        transforms.ToTensor(),\n",
        "        transforms.Normalize([0.485, 0.456, 0.406], [0.229, 0.224, 0.225])\n",
        "    ]),\n",
        "}\n",
        "\n",
        "train_ds = datasets.ImageFolder(TRAIN_DIR, data_transforms['train'])\n",
        "val_ds = datasets.ImageFolder(VAL_DIR, data_transforms['val'])\n",
        "\n",
        "train_dl = DataLoader(train_ds, TRAIN_BATCH_SIZE, shuffle=True, num_workers=2)\n",
        "val_dl = DataLoader(val_ds, VAL_BATCH_SIZE, shuffle=False, num_workers=2)"
      ],
      "execution_count": 2,
      "outputs": []
    },
    {
      "cell_type": "code",
      "metadata": {
        "id": "ShfkiozpTE21"
      },
      "source": [
        "def set_seed(seed = 42, set_torch=True):\n",
        "    random.seed(seed)\n",
        "    np.random.seed(seed)\n",
        "    os.environ[\"PYTHONHASHSEED\"] = str(seed)\n",
        "    if set_torch:\n",
        "        torch.manual_seed(seed)\n",
        "        torch.cuda.manual_seed(seed)\n",
        "        torch.backends.cudnn.deterministic = True\n",
        "        torch.backends.cudnn.benchmark = False "
      ],
      "execution_count": 3,
      "outputs": []
    },
    {
      "cell_type": "code",
      "metadata": {
        "id": "OtSLWt2hzMVV"
      },
      "source": [
        "class WoofNet(nn.Module):\n",
        "    def __init__(self, backbone, n_classes, name='woofnet'):\n",
        "        super(WoofNet, self).__init__()\n",
        "        self.backbone = list(backbone.children())\n",
        "        self.fc = nn.Linear(self.backbone[-1].in_features, n_classes)\n",
        "        self.backbone = nn.Sequential(*self.backbone[:-1])\n",
        "        self.name = name\n",
        "    \n",
        "    def forward(self, x):\n",
        "        x = self.backbone(x).squeeze(-1).squeeze(-1)\n",
        "        return self.fc(x)"
      ],
      "execution_count": 4,
      "outputs": []
    },
    {
      "cell_type": "code",
      "metadata": {
        "id": "Wb7NzdhrRmyd"
      },
      "source": [
        "backbone = models.resnet101(pretrained=True)\n",
        "model = WoofNet(backbone, N_CLASSES, name='resnet101').to(device)\n",
        "\n",
        "optimizer = optim.Adam(model.parameters(), LR)\n",
        "loss_fn = nn.CrossEntropyLoss().to(device)\n",
        "scheduler = torch.optim.lr_scheduler.CosineAnnealingLR(\n",
        "        optimizer, T_max=EPOCHS * len(train_dl), eta_min=ETA_MIN)"
      ],
      "execution_count": 5,
      "outputs": []
    },
    {
      "cell_type": "markdown",
      "metadata": {
        "id": "6bZs6m5Ln6Y_"
      },
      "source": [
        "# Model training\n"
      ]
    },
    {
      "cell_type": "code",
      "metadata": {
        "id": "amPEI5LhRmtx"
      },
      "source": [
        "import time\n",
        "from IPython.display import clear_output\n",
        "\n",
        "def train(model, train_dl, valid_dl, loss_fn, optimizer, acc_fn, scheduler, device=device, epochs=1):\n",
        "    set_seed(SEED)\n",
        "\n",
        "    start = time.time()\n",
        "    train_loss, valid_loss = [], []\n",
        "\n",
        "    best_acc = 0.0\n",
        "\n",
        "    for epoch in range(epochs):\n",
        "        print('Epoch {}/{}'.format(epoch, epochs - 1))\n",
        "        print('-' * 10)\n",
        "\n",
        "        for phase in ['train', 'valid']:\n",
        "            if phase == 'train':\n",
        "                model.train(True)\n",
        "                dataloader = train_dl\n",
        "            else:\n",
        "                model.train(False)\n",
        "                dataloader = valid_dl\n",
        "\n",
        "            running_loss = 0.0\n",
        "            running_acc = 0.0\n",
        "\n",
        "            step = 0\n",
        "            \n",
        "            for x, y in dataloader:\n",
        "                x = x.to(device)\n",
        "                y = y.to(device)\n",
        "                step += 1\n",
        "\n",
        "                # forward pass\n",
        "                if phase == 'train':\n",
        "                    # zero the gradients\n",
        "                    optimizer.zero_grad()\n",
        "\n",
        "                    outputs = model(x)\n",
        "                    loss = loss_fn(outputs, y)\n",
        "                    \n",
        "                    loss.backward()\n",
        "                    optimizer.step()\n",
        "                    scheduler.step()\n",
        "\n",
        "                else:\n",
        "                    with torch.no_grad():\n",
        "                        outputs = model(x)\n",
        "                        loss = loss_fn(outputs, y)\n",
        "\n",
        "                acc = acc_fn(outputs.detach(), y)\n",
        "\n",
        "                running_acc  += acc.cpu().item()*dataloader.batch_size\n",
        "                running_loss += loss.detach().cpu().item()*dataloader.batch_size \n",
        "\n",
        "                if step % 100 == 0:\n",
        "                    print('Current step: {}  Loss: {}  Acc: {}  AllocMem (Mb): {}'.format(step, loss, acc, torch.cuda.memory_allocated()/1024/1024))\n",
        "                    \n",
        "            epoch_loss = running_loss / len(dataloader.dataset)\n",
        "            epoch_acc = running_acc / len(dataloader.dataset)\n",
        "\n",
        "            clear_output(wait=True)\n",
        "            print('Epoch {}/{}'.format(epoch, epochs - 1))\n",
        "            print('-' * 10)\n",
        "            print('{} Loss: {:.4f} Acc: {}'.format(phase, epoch_loss, epoch_acc))\n",
        "            print('-' * 10)\n",
        "            \n",
        "            if phase == 'valid' and valid_loss and epoch_loss < min(valid_loss):\n",
        "                torch.save(model.state_dict(), 'model.bin')\n",
        "            elif phase == 'valid' and not valid_loss:\n",
        "                torch.save(model.state_dict(), 'model.bin')\n",
        "            \n",
        "            train_loss.append(epoch_loss) if phase=='train' else valid_loss.append(epoch_loss)\n",
        "\n",
        "    time_elapsed = time.time() - start\n",
        "    print('Training complete in {:.0f}m {:.0f}s'.format(time_elapsed // 60, time_elapsed % 60))    \n",
        "    \n",
        "    return train_loss, valid_loss\n",
        "\n",
        "def accuracy_fn(logits, y_true):\n",
        "    return torch.sum((torch.argmax(logits, 1) == y_true))/y_true.shape[0]"
      ],
      "execution_count": 6,
      "outputs": []
    },
    {
      "cell_type": "code",
      "metadata": {
        "id": "zl9WeQzgRmrN",
        "colab": {
          "base_uri": "https://localhost:8080/"
        },
        "outputId": "ff82bd1a-9872-4859-f5dc-c227186947c6"
      },
      "source": [
        "tloss, vloss = train(model, train_dl, val_dl, loss_fn, optimizer, accuracy_fn, scheduler, epochs=EPOCHS)"
      ],
      "execution_count": 7,
      "outputs": [
        {
          "output_type": "stream",
          "text": [
            "Epoch 29/29\n",
            "----------\n",
            "valid Loss: 0.3020 Acc: 0.9627431868050474\n",
            "----------\n",
            "Training complete in 40m 5s\n"
          ],
          "name": "stdout"
        }
      ]
    },
    {
      "cell_type": "code",
      "metadata": {
        "id": "zdQUM1WXRmoo",
        "colab": {
          "base_uri": "https://localhost:8080/"
        },
        "outputId": "994f73fc-1431-4171-a02c-c2d949f38296"
      },
      "source": [
        "model.load_state_dict(torch.load('model.bin'))"
      ],
      "execution_count": 8,
      "outputs": [
        {
          "output_type": "execute_result",
          "data": {
            "text/plain": [
              "<All keys matched successfully>"
            ]
          },
          "metadata": {
            "tags": []
          },
          "execution_count": 8
        }
      ]
    },
    {
      "cell_type": "code",
      "metadata": {
        "colab": {
          "base_uri": "https://localhost:8080/",
          "height": 283
        },
        "id": "nOL4lp4N59fl",
        "outputId": "0a2347f7-29d2-48f0-fffe-c42dc49fed46"
      },
      "source": [
        "plt.figure(figsize=(10, 4))\n",
        "plt.plot(tloss, label='Train loss')\n",
        "plt.plot(vloss, label='Val loss')\n",
        "plt.legend()"
      ],
      "execution_count": 9,
      "outputs": [
        {
          "output_type": "execute_result",
          "data": {
            "text/plain": [
              "<matplotlib.legend.Legend at 0x7f2ebac4e350>"
            ]
          },
          "metadata": {
            "tags": []
          },
          "execution_count": 9
        },
        {
          "output_type": "display_data",
          "data": {
            "image/png": "[encoded data removed]",
            "text/plain": [
              "<Figure size 720x288 with 1 Axes>"
            ]
          },
          "metadata": {
            "tags": [],
            "needs_background": "light"
          }
        }
      ]
    },
    {
      "cell_type": "markdown",
      "metadata": {
        "id": "dj6m9sCMoJgJ"
      },
      "source": [
        "# Prediction"
      ]
    },
    {
      "cell_type": "code",
      "metadata": {
        "id": "bKYmL1ogQXZj"
      },
      "source": [
        "import glob\n",
        "from PIL import Image\n",
        "filenames = glob.glob('imagewoof2/val/*/*.JPEG')"
      ],
      "execution_count": 67,
      "outputs": []
    },
    {
      "cell_type": "code",
      "metadata": {
        "id": "jLtnn7EoKEGa"
      },
      "source": [
        "class TestDataset(Dataset):\n",
        "    def __init__(self, filenames, transforms):\n",
        "        self.transform = transforms\n",
        "        self.filenames = filenames\n",
        "\n",
        "    def __len__(self):\n",
        "        return len(self.filenames)\n",
        "\n",
        "    def __getitem__(self, index):        \n",
        "        image = Image.open(self.filenames[index]).convert('RGB')\n",
        "        image = self.transform(image)\n",
        "        return torch.tensor(image, dtype=torch.float32)"
      ],
      "execution_count": 68,
      "outputs": []
    },
    {
      "cell_type": "code",
      "metadata": {
        "id": "eKVKidgcHun5"
      },
      "source": [
        "test_ds = TestDataset(filenames, data_transforms['val'])\n",
        "test_dl = DataLoader(test_ds, VAL_BATCH_SIZE, shuffle=False)"
      ],
      "execution_count": 69,
      "outputs": []
    },
    {
      "cell_type": "code",
      "metadata": {
        "id": "EbWq-vMCIljm"
      },
      "source": [
        "def predict(model, dataloader, device):\n",
        "    model = model.eval()\n",
        "    predictions = None\n",
        "    with torch.no_grad():\n",
        "        for x in dataloader:\n",
        "            x = x.to(device)\n",
        "            logits = model(x)\n",
        "            p = torch.argmax(logits, 1).cpu().view(-1).numpy()\n",
        "\n",
        "            if predictions is None:\n",
        "                predictions = p\n",
        "            else:\n",
        "                predictions = np.concatenate((predictions, p), axis=0)\n",
        "        return predictions"
      ],
      "execution_count": 85,
      "outputs": []
    },
    {
      "cell_type": "code",
      "metadata": {
        "colab": {
          "base_uri": "https://localhost:8080/"
        },
        "id": "Wlb_hZ7DWRM2",
        "outputId": "bf827334-cf13-4ddf-a992-177fbe996550"
      },
      "source": [
        "preds = predict(model, test_dl, device)"
      ],
      "execution_count": 86,
      "outputs": [
        {
          "output_type": "stream",
          "text": [
            "/usr/local/lib/python3.7/dist-packages/ipykernel_launcher.py:12: UserWarning: To copy construct from a tensor, it is recommended to use sourceTensor.clone().detach() or sourceTensor.clone().detach().requires_grad_(True), rather than torch.tensor(sourceTensor).\n",
            "  if sys.path[0] == '':\n"
          ],
          "name": "stderr"
        }
      ]
    },
    {
      "cell_type": "code",
      "metadata": {
        "colab": {
          "base_uri": "https://localhost:8080/"
        },
        "id": "DkhL6fjLXIkl",
        "outputId": "936f27f3-5b1c-45e4-c221-48bee242fc4c"
      },
      "source": [
        "preds"
      ],
      "execution_count": 89,
      "outputs": [
        {
          "output_type": "execute_result",
          "data": {
            "text/plain": [
              "array([4, 4, 4, ..., 9, 9, 9])"
            ]
          },
          "metadata": {
            "tags": []
          },
          "execution_count": 89
        }
      ]
    }
  ]
}